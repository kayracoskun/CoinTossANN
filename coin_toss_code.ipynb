{
 "cells": [
  {
   "cell_type": "markdown",
   "metadata": {},
   "source": [
    "#### EHB 420E - ANN FINAL EXAM\n",
    "CRN: 10342\n",
    "\n",
    "Kayra Coşkun - 040200002"
   ]
  },
  {
   "cell_type": "markdown",
   "metadata": {},
   "source": [
    "##### Dataset and Preprocessing"
   ]
  },
  {
   "cell_type": "code",
   "execution_count": 1,
   "metadata": {},
   "outputs": [],
   "source": [
    "import pandas as pd\n",
    "from sklearn.preprocessing import LabelEncoder, MinMaxScaler\n",
    "from sklearn.model_selection import train_test_split\n",
    "import matplotlib.pyplot as plt"
   ]
  },
  {
   "cell_type": "code",
   "execution_count": 2,
   "metadata": {},
   "outputs": [
    {
     "data": {
      "text/html": [
       "<div>\n",
       "<style scoped>\n",
       "    .dataframe tbody tr th:only-of-type {\n",
       "        vertical-align: middle;\n",
       "    }\n",
       "\n",
       "    .dataframe tbody tr th {\n",
       "        vertical-align: top;\n",
       "    }\n",
       "\n",
       "    .dataframe thead th {\n",
       "        text-align: right;\n",
       "    }\n",
       "</style>\n",
       "<table border=\"1\" class=\"dataframe\">\n",
       "  <thead>\n",
       "    <tr style=\"text-align: right;\">\n",
       "      <th></th>\n",
       "      <th>Max. Distance (cm)</th>\n",
       "      <th>Dropping Condition</th>\n",
       "      <th>Did it spin?</th>\n",
       "      <th>Outcome</th>\n",
       "    </tr>\n",
       "    <tr>\n",
       "      <th>Number of toss</th>\n",
       "      <th></th>\n",
       "      <th></th>\n",
       "      <th></th>\n",
       "      <th></th>\n",
       "    </tr>\n",
       "  </thead>\n",
       "  <tbody>\n",
       "    <tr>\n",
       "      <th>1</th>\n",
       "      <td>101</td>\n",
       "      <td>Tail up toss</td>\n",
       "      <td>No</td>\n",
       "      <td>Tail</td>\n",
       "    </tr>\n",
       "    <tr>\n",
       "      <th>2</th>\n",
       "      <td>102</td>\n",
       "      <td>Tail up toss</td>\n",
       "      <td>No</td>\n",
       "      <td>Head</td>\n",
       "    </tr>\n",
       "    <tr>\n",
       "      <th>3</th>\n",
       "      <td>102</td>\n",
       "      <td>Tail up toss</td>\n",
       "      <td>No</td>\n",
       "      <td>Tail</td>\n",
       "    </tr>\n",
       "    <tr>\n",
       "      <th>4</th>\n",
       "      <td>100</td>\n",
       "      <td>Tail up toss</td>\n",
       "      <td>No</td>\n",
       "      <td>Tail</td>\n",
       "    </tr>\n",
       "    <tr>\n",
       "      <th>5</th>\n",
       "      <td>101</td>\n",
       "      <td>Tail up toss</td>\n",
       "      <td>No</td>\n",
       "      <td>Tail</td>\n",
       "    </tr>\n",
       "  </tbody>\n",
       "</table>\n",
       "</div>"
      ],
      "text/plain": [
       "                Max. Distance (cm) Dropping Condition Did it spin? Outcome\n",
       "Number of toss                                                            \n",
       "1                              101       Tail up toss           No    Tail\n",
       "2                              102       Tail up toss           No    Head\n",
       "3                              102       Tail up toss           No    Tail\n",
       "4                              100       Tail up toss           No    Tail\n",
       "5                              101       Tail up toss           No    Tail"
      ]
     },
     "execution_count": 2,
     "metadata": {},
     "output_type": "execute_result"
    }
   ],
   "source": [
    "# Read the dataset from Excel file\n",
    "coin_df = pd.read_excel('coin_toss_exp.xlsx', sheet_name='Sheet1', index_col='Number of toss')\n",
    "\n",
    "coin_df.head()"
   ]
  },
  {
   "cell_type": "code",
   "execution_count": 3,
   "metadata": {},
   "outputs": [
    {
     "data": {
      "text/plain": [
       "(340, 4)"
      ]
     },
     "execution_count": 3,
     "metadata": {},
     "output_type": "execute_result"
    }
   ],
   "source": [
    "coin_df.shape"
   ]
  },
  {
   "cell_type": "code",
   "execution_count": 4,
   "metadata": {},
   "outputs": [
    {
     "data": {
      "text/plain": [
       "Max. Distance (cm)     int64\n",
       "Dropping Condition    object\n",
       "Did it spin?          object\n",
       "Outcome               object\n",
       "dtype: object"
      ]
     },
     "execution_count": 4,
     "metadata": {},
     "output_type": "execute_result"
    }
   ],
   "source": [
    "# Datatypes of the columns\n",
    "coin_df.dtypes"
   ]
  },
  {
   "cell_type": "code",
   "execution_count": 5,
   "metadata": {},
   "outputs": [
    {
     "data": {
      "text/html": [
       "<div>\n",
       "<style scoped>\n",
       "    .dataframe tbody tr th:only-of-type {\n",
       "        vertical-align: middle;\n",
       "    }\n",
       "\n",
       "    .dataframe tbody tr th {\n",
       "        vertical-align: top;\n",
       "    }\n",
       "\n",
       "    .dataframe thead th {\n",
       "        text-align: right;\n",
       "    }\n",
       "</style>\n",
       "<table border=\"1\" class=\"dataframe\">\n",
       "  <thead>\n",
       "    <tr style=\"text-align: right;\">\n",
       "      <th></th>\n",
       "      <th>Max. Distance (cm)</th>\n",
       "      <th>Dropping Condition</th>\n",
       "      <th>Did it spin?</th>\n",
       "      <th>Outcome</th>\n",
       "    </tr>\n",
       "    <tr>\n",
       "      <th>Number of toss</th>\n",
       "      <th></th>\n",
       "      <th></th>\n",
       "      <th></th>\n",
       "      <th></th>\n",
       "    </tr>\n",
       "  </thead>\n",
       "  <tbody>\n",
       "    <tr>\n",
       "      <th>1</th>\n",
       "      <td>101</td>\n",
       "      <td>1</td>\n",
       "      <td>0</td>\n",
       "      <td>1</td>\n",
       "    </tr>\n",
       "    <tr>\n",
       "      <th>2</th>\n",
       "      <td>102</td>\n",
       "      <td>1</td>\n",
       "      <td>0</td>\n",
       "      <td>0</td>\n",
       "    </tr>\n",
       "    <tr>\n",
       "      <th>3</th>\n",
       "      <td>102</td>\n",
       "      <td>1</td>\n",
       "      <td>0</td>\n",
       "      <td>1</td>\n",
       "    </tr>\n",
       "    <tr>\n",
       "      <th>4</th>\n",
       "      <td>100</td>\n",
       "      <td>1</td>\n",
       "      <td>0</td>\n",
       "      <td>1</td>\n",
       "    </tr>\n",
       "    <tr>\n",
       "      <th>5</th>\n",
       "      <td>101</td>\n",
       "      <td>1</td>\n",
       "      <td>0</td>\n",
       "      <td>1</td>\n",
       "    </tr>\n",
       "    <tr>\n",
       "      <th>6</th>\n",
       "      <td>102</td>\n",
       "      <td>1</td>\n",
       "      <td>0</td>\n",
       "      <td>1</td>\n",
       "    </tr>\n",
       "    <tr>\n",
       "      <th>7</th>\n",
       "      <td>103</td>\n",
       "      <td>1</td>\n",
       "      <td>0</td>\n",
       "      <td>1</td>\n",
       "    </tr>\n",
       "    <tr>\n",
       "      <th>8</th>\n",
       "      <td>105</td>\n",
       "      <td>1</td>\n",
       "      <td>1</td>\n",
       "      <td>0</td>\n",
       "    </tr>\n",
       "    <tr>\n",
       "      <th>9</th>\n",
       "      <td>103</td>\n",
       "      <td>1</td>\n",
       "      <td>0</td>\n",
       "      <td>1</td>\n",
       "    </tr>\n",
       "    <tr>\n",
       "      <th>10</th>\n",
       "      <td>102</td>\n",
       "      <td>1</td>\n",
       "      <td>0</td>\n",
       "      <td>1</td>\n",
       "    </tr>\n",
       "  </tbody>\n",
       "</table>\n",
       "</div>"
      ],
      "text/plain": [
       "                Max. Distance (cm)  Dropping Condition  Did it spin?  Outcome\n",
       "Number of toss                                                               \n",
       "1                              101                   1             0        1\n",
       "2                              102                   1             0        0\n",
       "3                              102                   1             0        1\n",
       "4                              100                   1             0        1\n",
       "5                              101                   1             0        1\n",
       "6                              102                   1             0        1\n",
       "7                              103                   1             0        1\n",
       "8                              105                   1             1        0\n",
       "9                              103                   1             0        1\n",
       "10                             102                   1             0        1"
      ]
     },
     "execution_count": 5,
     "metadata": {},
     "output_type": "execute_result"
    }
   ],
   "source": [
    "# Encode categorical variables with LabelEncoder\n",
    "\n",
    "label_encoder_condition = LabelEncoder()\n",
    "label_encoder_spin = LabelEncoder()\n",
    "label_encoder_outcome = LabelEncoder()\n",
    "\n",
    "coin_df['Dropping Condition'] = label_encoder_condition.fit_transform(coin_df['Dropping Condition'])\n",
    "coin_df['Did it spin?'] = label_encoder_spin.fit_transform(coin_df['Did it spin?'])\n",
    "coin_df['Outcome'] = label_encoder_outcome.fit_transform(coin_df['Outcome'])\n",
    "\n",
    "coin_df.head(10)"
   ]
  },
  {
   "cell_type": "code",
   "execution_count": 6,
   "metadata": {},
   "outputs": [
    {
     "data": {
      "text/plain": [
       "1    85\n",
       "3    85\n",
       "2    85\n",
       "0    85\n",
       "Name: Dropping Condition, dtype: int64"
      ]
     },
     "execution_count": 6,
     "metadata": {},
     "output_type": "execute_result"
    }
   ],
   "source": [
    "# Cheking the encoded values for Dropping Condition\n",
    "coin_df['Dropping Condition'].value_counts()"
   ]
  },
  {
   "cell_type": "code",
   "execution_count": 7,
   "metadata": {},
   "outputs": [
    {
     "data": {
      "text/html": [
       "<div>\n",
       "<style scoped>\n",
       "    .dataframe tbody tr th:only-of-type {\n",
       "        vertical-align: middle;\n",
       "    }\n",
       "\n",
       "    .dataframe tbody tr th {\n",
       "        vertical-align: top;\n",
       "    }\n",
       "\n",
       "    .dataframe thead th {\n",
       "        text-align: right;\n",
       "    }\n",
       "</style>\n",
       "<table border=\"1\" class=\"dataframe\">\n",
       "  <thead>\n",
       "    <tr style=\"text-align: right;\">\n",
       "      <th></th>\n",
       "      <th>Max. Distance (cm)</th>\n",
       "      <th>Dropping Condition</th>\n",
       "      <th>Did it spin?</th>\n",
       "      <th>Outcome</th>\n",
       "    </tr>\n",
       "    <tr>\n",
       "      <th>Number of toss</th>\n",
       "      <th></th>\n",
       "      <th></th>\n",
       "      <th></th>\n",
       "      <th></th>\n",
       "    </tr>\n",
       "  </thead>\n",
       "  <tbody>\n",
       "    <tr>\n",
       "      <th>1</th>\n",
       "      <td>0.125</td>\n",
       "      <td>1</td>\n",
       "      <td>0</td>\n",
       "      <td>1</td>\n",
       "    </tr>\n",
       "    <tr>\n",
       "      <th>2</th>\n",
       "      <td>0.250</td>\n",
       "      <td>1</td>\n",
       "      <td>0</td>\n",
       "      <td>0</td>\n",
       "    </tr>\n",
       "    <tr>\n",
       "      <th>3</th>\n",
       "      <td>0.250</td>\n",
       "      <td>1</td>\n",
       "      <td>0</td>\n",
       "      <td>1</td>\n",
       "    </tr>\n",
       "    <tr>\n",
       "      <th>4</th>\n",
       "      <td>0.000</td>\n",
       "      <td>1</td>\n",
       "      <td>0</td>\n",
       "      <td>1</td>\n",
       "    </tr>\n",
       "    <tr>\n",
       "      <th>5</th>\n",
       "      <td>0.125</td>\n",
       "      <td>1</td>\n",
       "      <td>0</td>\n",
       "      <td>1</td>\n",
       "    </tr>\n",
       "  </tbody>\n",
       "</table>\n",
       "</div>"
      ],
      "text/plain": [
       "                Max. Distance (cm)  Dropping Condition  Did it spin?  Outcome\n",
       "Number of toss                                                               \n",
       "1                            0.125                   1             0        1\n",
       "2                            0.250                   1             0        0\n",
       "3                            0.250                   1             0        1\n",
       "4                            0.000                   1             0        1\n",
       "5                            0.125                   1             0        1"
      ]
     },
     "execution_count": 7,
     "metadata": {},
     "output_type": "execute_result"
    }
   ],
   "source": [
    "# Normalize the columns with MinMaxScaler\n",
    "\n",
    "scaler = MinMaxScaler()\n",
    "\n",
    "coin_df['Max. Distance (cm)'] = scaler.fit_transform(coin_df[['Max. Distance (cm)']])\n",
    "\n",
    "coin_df.head()"
   ]
  },
  {
   "cell_type": "code",
   "execution_count": 8,
   "metadata": {},
   "outputs": [],
   "source": [
    "# Create X and y variables\n",
    "\n",
    "X = coin_df[['Max. Distance (cm)', 'Dropping Condition', 'Did it spin?']]\n",
    "y = coin_df['Outcome']"
   ]
  },
  {
   "cell_type": "code",
   "execution_count": 9,
   "metadata": {},
   "outputs": [
    {
     "data": {
      "text/html": [
       "<div>\n",
       "<style scoped>\n",
       "    .dataframe tbody tr th:only-of-type {\n",
       "        vertical-align: middle;\n",
       "    }\n",
       "\n",
       "    .dataframe tbody tr th {\n",
       "        vertical-align: top;\n",
       "    }\n",
       "\n",
       "    .dataframe thead th {\n",
       "        text-align: right;\n",
       "    }\n",
       "</style>\n",
       "<table border=\"1\" class=\"dataframe\">\n",
       "  <thead>\n",
       "    <tr style=\"text-align: right;\">\n",
       "      <th></th>\n",
       "      <th>Max. Distance (cm)</th>\n",
       "      <th>Dropping Condition</th>\n",
       "      <th>Did it spin?</th>\n",
       "    </tr>\n",
       "    <tr>\n",
       "      <th>Number of toss</th>\n",
       "      <th></th>\n",
       "      <th></th>\n",
       "      <th></th>\n",
       "    </tr>\n",
       "  </thead>\n",
       "  <tbody>\n",
       "    <tr>\n",
       "      <th>1</th>\n",
       "      <td>0.125</td>\n",
       "      <td>1</td>\n",
       "      <td>0</td>\n",
       "    </tr>\n",
       "    <tr>\n",
       "      <th>2</th>\n",
       "      <td>0.250</td>\n",
       "      <td>1</td>\n",
       "      <td>0</td>\n",
       "    </tr>\n",
       "    <tr>\n",
       "      <th>3</th>\n",
       "      <td>0.250</td>\n",
       "      <td>1</td>\n",
       "      <td>0</td>\n",
       "    </tr>\n",
       "    <tr>\n",
       "      <th>4</th>\n",
       "      <td>0.000</td>\n",
       "      <td>1</td>\n",
       "      <td>0</td>\n",
       "    </tr>\n",
       "    <tr>\n",
       "      <th>5</th>\n",
       "      <td>0.125</td>\n",
       "      <td>1</td>\n",
       "      <td>0</td>\n",
       "    </tr>\n",
       "  </tbody>\n",
       "</table>\n",
       "</div>"
      ],
      "text/plain": [
       "                Max. Distance (cm)  Dropping Condition  Did it spin?\n",
       "Number of toss                                                      \n",
       "1                            0.125                   1             0\n",
       "2                            0.250                   1             0\n",
       "3                            0.250                   1             0\n",
       "4                            0.000                   1             0\n",
       "5                            0.125                   1             0"
      ]
     },
     "execution_count": 9,
     "metadata": {},
     "output_type": "execute_result"
    }
   ],
   "source": [
    "X.head()"
   ]
  },
  {
   "cell_type": "code",
   "execution_count": 10,
   "metadata": {},
   "outputs": [
    {
     "data": {
      "text/plain": [
       "Number of toss\n",
       "1    1\n",
       "2    0\n",
       "3    1\n",
       "4    1\n",
       "5    1\n",
       "Name: Outcome, dtype: int32"
      ]
     },
     "execution_count": 10,
     "metadata": {},
     "output_type": "execute_result"
    }
   ],
   "source": [
    "y.head()"
   ]
  },
  {
   "cell_type": "code",
   "execution_count": 11,
   "metadata": {},
   "outputs": [
    {
     "data": {
      "text/plain": [
       "((272, 3), (68, 3), (272,), (68,))"
      ]
     },
     "execution_count": 11,
     "metadata": {},
     "output_type": "execute_result"
    }
   ],
   "source": [
    "# Split train and test data\n",
    "\n",
    "X_train, X_test, y_train, y_test = train_test_split(X, y, test_size=0.2, random_state=42)\n",
    "\n",
    "(X_train.shape, X_test.shape, y_train.shape, y_test.shape)"
   ]
  },
  {
   "cell_type": "markdown",
   "metadata": {},
   "source": [
    "##### Model Creation"
   ]
  },
  {
   "cell_type": "code",
   "execution_count": 12,
   "metadata": {},
   "outputs": [
    {
     "name": "stdout",
     "output_type": "stream",
     "text": [
      "Epoch 1/80\n",
      "109/109 [==============================] - 4s 10ms/step - loss: 0.6882 - accuracy: 0.5760 - val_loss: 0.6613 - val_accuracy: 0.7273\n",
      "Epoch 2/80\n",
      "109/109 [==============================] - 1s 5ms/step - loss: 0.6819 - accuracy: 0.6267 - val_loss: 0.6528 - val_accuracy: 0.7273\n",
      "Epoch 3/80\n",
      "109/109 [==============================] - 1s 9ms/step - loss: 0.6785 - accuracy: 0.6267 - val_loss: 0.6495 - val_accuracy: 0.7455\n",
      "Epoch 4/80\n",
      "109/109 [==============================] - 1s 9ms/step - loss: 0.6758 - accuracy: 0.6359 - val_loss: 0.6400 - val_accuracy: 0.7455\n",
      "Epoch 5/80\n",
      "109/109 [==============================] - 1s 8ms/step - loss: 0.6718 - accuracy: 0.6313 - val_loss: 0.6560 - val_accuracy: 0.6727\n",
      "Epoch 6/80\n",
      "109/109 [==============================] - 1s 8ms/step - loss: 0.6721 - accuracy: 0.5853 - val_loss: 0.6504 - val_accuracy: 0.6909\n",
      "Epoch 7/80\n",
      "109/109 [==============================] - 1s 5ms/step - loss: 0.6694 - accuracy: 0.6544 - val_loss: 0.6458 - val_accuracy: 0.6909\n",
      "Epoch 8/80\n",
      "109/109 [==============================] - 1s 5ms/step - loss: 0.6674 - accuracy: 0.6728 - val_loss: 0.6491 - val_accuracy: 0.6909\n",
      "Epoch 9/80\n",
      "109/109 [==============================] - 1s 5ms/step - loss: 0.6681 - accuracy: 0.6682 - val_loss: 0.6417 - val_accuracy: 0.6909\n",
      "Epoch 10/80\n",
      "109/109 [==============================] - 1s 5ms/step - loss: 0.6653 - accuracy: 0.6728 - val_loss: 0.6435 - val_accuracy: 0.6909\n",
      "Epoch 11/80\n",
      "109/109 [==============================] - 1s 8ms/step - loss: 0.6641 - accuracy: 0.6682 - val_loss: 0.6423 - val_accuracy: 0.6909\n",
      "Epoch 12/80\n",
      "109/109 [==============================] - 1s 8ms/step - loss: 0.6620 - accuracy: 0.6728 - val_loss: 0.6402 - val_accuracy: 0.6909\n",
      "Epoch 13/80\n",
      "109/109 [==============================] - 1s 8ms/step - loss: 0.6614 - accuracy: 0.6774 - val_loss: 0.6463 - val_accuracy: 0.6909\n",
      "Epoch 14/80\n",
      "109/109 [==============================] - 1s 9ms/step - loss: 0.6618 - accuracy: 0.6728 - val_loss: 0.6362 - val_accuracy: 0.6909\n",
      "Epoch 15/80\n",
      "109/109 [==============================] - 1s 8ms/step - loss: 0.6582 - accuracy: 0.6728 - val_loss: 0.6360 - val_accuracy: 0.6909\n",
      "Epoch 16/80\n",
      "109/109 [==============================] - 1s 8ms/step - loss: 0.6552 - accuracy: 0.6728 - val_loss: 0.6397 - val_accuracy: 0.6909\n",
      "Epoch 17/80\n",
      "109/109 [==============================] - 1s 8ms/step - loss: 0.6523 - accuracy: 0.6728 - val_loss: 0.6412 - val_accuracy: 0.6909\n",
      "Epoch 18/80\n",
      "109/109 [==============================] - 1s 9ms/step - loss: 0.6530 - accuracy: 0.6728 - val_loss: 0.6362 - val_accuracy: 0.6909\n",
      "Epoch 19/80\n",
      "109/109 [==============================] - 1s 8ms/step - loss: 0.6488 - accuracy: 0.6728 - val_loss: 0.6380 - val_accuracy: 0.6909\n",
      "Epoch 20/80\n",
      "109/109 [==============================] - 1s 9ms/step - loss: 0.6476 - accuracy: 0.6682 - val_loss: 0.6272 - val_accuracy: 0.6909\n",
      "Epoch 21/80\n",
      "109/109 [==============================] - 1s 8ms/step - loss: 0.6431 - accuracy: 0.6728 - val_loss: 0.6296 - val_accuracy: 0.6909\n",
      "Epoch 22/80\n",
      "109/109 [==============================] - 1s 9ms/step - loss: 0.6438 - accuracy: 0.6728 - val_loss: 0.6205 - val_accuracy: 0.6909\n",
      "Epoch 23/80\n",
      "109/109 [==============================] - 1s 9ms/step - loss: 0.6372 - accuracy: 0.6728 - val_loss: 0.6256 - val_accuracy: 0.6909\n",
      "Epoch 24/80\n",
      "109/109 [==============================] - 1s 9ms/step - loss: 0.6323 - accuracy: 0.6728 - val_loss: 0.6221 - val_accuracy: 0.6909\n",
      "Epoch 25/80\n",
      "109/109 [==============================] - 1s 9ms/step - loss: 0.6260 - accuracy: 0.6728 - val_loss: 0.6152 - val_accuracy: 0.6909\n",
      "Epoch 26/80\n",
      "109/109 [==============================] - 1s 9ms/step - loss: 0.6224 - accuracy: 0.6728 - val_loss: 0.6128 - val_accuracy: 0.6909\n",
      "Epoch 27/80\n",
      "109/109 [==============================] - 1s 9ms/step - loss: 0.6164 - accuracy: 0.6728 - val_loss: 0.6111 - val_accuracy: 0.6909\n",
      "Epoch 28/80\n",
      "109/109 [==============================] - 1s 9ms/step - loss: 0.6152 - accuracy: 0.6728 - val_loss: 0.6050 - val_accuracy: 0.6909\n",
      "Epoch 29/80\n",
      "109/109 [==============================] - 1s 9ms/step - loss: 0.6054 - accuracy: 0.6682 - val_loss: 0.6007 - val_accuracy: 0.6909\n",
      "Epoch 30/80\n",
      "109/109 [==============================] - 1s 9ms/step - loss: 0.6012 - accuracy: 0.6728 - val_loss: 0.5984 - val_accuracy: 0.6909\n",
      "Epoch 31/80\n",
      "109/109 [==============================] - 1s 9ms/step - loss: 0.5940 - accuracy: 0.7189 - val_loss: 0.5909 - val_accuracy: 0.6909\n",
      "Epoch 32/80\n",
      "109/109 [==============================] - 1s 7ms/step - loss: 0.5865 - accuracy: 0.6728 - val_loss: 0.5920 - val_accuracy: 0.6909\n",
      "Epoch 33/80\n",
      "109/109 [==============================] - 1s 8ms/step - loss: 0.5825 - accuracy: 0.6912 - val_loss: 0.5931 - val_accuracy: 0.6909\n",
      "Epoch 34/80\n",
      "109/109 [==============================] - 1s 9ms/step - loss: 0.5727 - accuracy: 0.7419 - val_loss: 0.5841 - val_accuracy: 0.6909\n",
      "Epoch 35/80\n",
      "109/109 [==============================] - 1s 10ms/step - loss: 0.5693 - accuracy: 0.7097 - val_loss: 0.5866 - val_accuracy: 0.7091\n",
      "Epoch 36/80\n",
      "109/109 [==============================] - 1s 8ms/step - loss: 0.5655 - accuracy: 0.7373 - val_loss: 0.5859 - val_accuracy: 0.7455\n",
      "Epoch 37/80\n",
      "109/109 [==============================] - 1s 8ms/step - loss: 0.5564 - accuracy: 0.7235 - val_loss: 0.5700 - val_accuracy: 0.7455\n",
      "Epoch 38/80\n",
      "109/109 [==============================] - 1s 8ms/step - loss: 0.5550 - accuracy: 0.7558 - val_loss: 0.5797 - val_accuracy: 0.7455\n",
      "Epoch 39/80\n",
      "109/109 [==============================] - 1s 10ms/step - loss: 0.5464 - accuracy: 0.7650 - val_loss: 0.5802 - val_accuracy: 0.7273\n",
      "Epoch 40/80\n",
      "109/109 [==============================] - 1s 8ms/step - loss: 0.5420 - accuracy: 0.7696 - val_loss: 0.5759 - val_accuracy: 0.7636\n",
      "Epoch 41/80\n",
      "109/109 [==============================] - 1s 8ms/step - loss: 0.5387 - accuracy: 0.7696 - val_loss: 0.5765 - val_accuracy: 0.7273\n",
      "Epoch 42/80\n",
      "109/109 [==============================] - 1s 5ms/step - loss: 0.5347 - accuracy: 0.7512 - val_loss: 0.5693 - val_accuracy: 0.7273\n",
      "Epoch 43/80\n",
      "109/109 [==============================] - 1s 5ms/step - loss: 0.5327 - accuracy: 0.7788 - val_loss: 0.5754 - val_accuracy: 0.6727\n",
      "Epoch 44/80\n",
      "109/109 [==============================] - 1s 5ms/step - loss: 0.5260 - accuracy: 0.7788 - val_loss: 0.5704 - val_accuracy: 0.7455\n",
      "Epoch 45/80\n",
      "109/109 [==============================] - 1s 6ms/step - loss: 0.5215 - accuracy: 0.7880 - val_loss: 0.5583 - val_accuracy: 0.7636\n",
      "Epoch 46/80\n",
      "109/109 [==============================] - 1s 9ms/step - loss: 0.5196 - accuracy: 0.7880 - val_loss: 0.5517 - val_accuracy: 0.7636\n",
      "Epoch 47/80\n",
      "109/109 [==============================] - 1s 9ms/step - loss: 0.5123 - accuracy: 0.7788 - val_loss: 0.5473 - val_accuracy: 0.7455\n",
      "Epoch 48/80\n",
      "109/109 [==============================] - 1s 9ms/step - loss: 0.5075 - accuracy: 0.7926 - val_loss: 0.5743 - val_accuracy: 0.6727\n",
      "Epoch 49/80\n",
      "109/109 [==============================] - 1s 9ms/step - loss: 0.5018 - accuracy: 0.8018 - val_loss: 0.5654 - val_accuracy: 0.6727\n",
      "Epoch 50/80\n",
      "109/109 [==============================] - 1s 9ms/step - loss: 0.4971 - accuracy: 0.8018 - val_loss: 0.5556 - val_accuracy: 0.7273\n",
      "Epoch 51/80\n",
      "109/109 [==============================] - 1s 8ms/step - loss: 0.5007 - accuracy: 0.7926 - val_loss: 0.5497 - val_accuracy: 0.7273\n",
      "Epoch 52/80\n",
      "109/109 [==============================] - 1s 9ms/step - loss: 0.4889 - accuracy: 0.7926 - val_loss: 0.5587 - val_accuracy: 0.7455\n",
      "Epoch 53/80\n",
      "109/109 [==============================] - 1s 9ms/step - loss: 0.4882 - accuracy: 0.8018 - val_loss: 0.5497 - val_accuracy: 0.7273\n",
      "Epoch 54/80\n",
      "109/109 [==============================] - 1s 10ms/step - loss: 0.4860 - accuracy: 0.7926 - val_loss: 0.5549 - val_accuracy: 0.7455\n",
      "Epoch 55/80\n",
      "109/109 [==============================] - 1s 5ms/step - loss: 0.4773 - accuracy: 0.7972 - val_loss: 0.5457 - val_accuracy: 0.7273\n",
      "Epoch 56/80\n",
      "109/109 [==============================] - 1s 8ms/step - loss: 0.4739 - accuracy: 0.8249 - val_loss: 0.5414 - val_accuracy: 0.7273\n",
      "Epoch 57/80\n",
      "109/109 [==============================] - 1s 11ms/step - loss: 0.4776 - accuracy: 0.8157 - val_loss: 0.5473 - val_accuracy: 0.7273\n",
      "Epoch 58/80\n",
      "109/109 [==============================] - 1s 8ms/step - loss: 0.4704 - accuracy: 0.8157 - val_loss: 0.5527 - val_accuracy: 0.7273\n",
      "Epoch 59/80\n",
      "109/109 [==============================] - 1s 5ms/step - loss: 0.4669 - accuracy: 0.8157 - val_loss: 0.5296 - val_accuracy: 0.7455\n",
      "Epoch 60/80\n",
      "109/109 [==============================] - 1s 9ms/step - loss: 0.4669 - accuracy: 0.8018 - val_loss: 0.5524 - val_accuracy: 0.7455\n",
      "Epoch 61/80\n",
      "109/109 [==============================] - 1s 9ms/step - loss: 0.4606 - accuracy: 0.8203 - val_loss: 0.5320 - val_accuracy: 0.7455\n",
      "Epoch 62/80\n",
      "109/109 [==============================] - 1s 11ms/step - loss: 0.4651 - accuracy: 0.7972 - val_loss: 0.5424 - val_accuracy: 0.7455\n",
      "Epoch 63/80\n",
      "109/109 [==============================] - 1s 10ms/step - loss: 0.4593 - accuracy: 0.8018 - val_loss: 0.5342 - val_accuracy: 0.7455\n",
      "Epoch 64/80\n",
      "109/109 [==============================] - 1s 9ms/step - loss: 0.4530 - accuracy: 0.8249 - val_loss: 0.5243 - val_accuracy: 0.7455\n",
      "Epoch 65/80\n",
      "109/109 [==============================] - 1s 11ms/step - loss: 0.4534 - accuracy: 0.8065 - val_loss: 0.5255 - val_accuracy: 0.7455\n",
      "Epoch 66/80\n",
      "109/109 [==============================] - 1s 11ms/step - loss: 0.4516 - accuracy: 0.8295 - val_loss: 0.5358 - val_accuracy: 0.7455\n",
      "Epoch 67/80\n",
      "109/109 [==============================] - 1s 11ms/step - loss: 0.4504 - accuracy: 0.8295 - val_loss: 0.5145 - val_accuracy: 0.7636\n",
      "Epoch 68/80\n",
      "109/109 [==============================] - 1s 7ms/step - loss: 0.4542 - accuracy: 0.8111 - val_loss: 0.5233 - val_accuracy: 0.7455\n",
      "Epoch 69/80\n",
      "109/109 [==============================] - 1s 9ms/step - loss: 0.4430 - accuracy: 0.8295 - val_loss: 0.5374 - val_accuracy: 0.7455\n",
      "Epoch 70/80\n",
      "109/109 [==============================] - 1s 8ms/step - loss: 0.4393 - accuracy: 0.8203 - val_loss: 0.5169 - val_accuracy: 0.7636\n",
      "Epoch 71/80\n",
      "109/109 [==============================] - 1s 8ms/step - loss: 0.4491 - accuracy: 0.8065 - val_loss: 0.5388 - val_accuracy: 0.7636\n",
      "Epoch 72/80\n",
      "109/109 [==============================] - 1s 9ms/step - loss: 0.4396 - accuracy: 0.8295 - val_loss: 0.5263 - val_accuracy: 0.7818\n",
      "Epoch 73/80\n",
      "109/109 [==============================] - 1s 10ms/step - loss: 0.4443 - accuracy: 0.8387 - val_loss: 0.5397 - val_accuracy: 0.7636\n",
      "Epoch 74/80\n",
      "109/109 [==============================] - 1s 9ms/step - loss: 0.4354 - accuracy: 0.8295 - val_loss: 0.5296 - val_accuracy: 0.7818\n",
      "Epoch 75/80\n",
      "109/109 [==============================] - 1s 9ms/step - loss: 0.4336 - accuracy: 0.8203 - val_loss: 0.5220 - val_accuracy: 0.7818\n",
      "Epoch 76/80\n",
      "109/109 [==============================] - 1s 7ms/step - loss: 0.4333 - accuracy: 0.8341 - val_loss: 0.5341 - val_accuracy: 0.7818\n",
      "Epoch 77/80\n",
      "109/109 [==============================] - 1s 8ms/step - loss: 0.4297 - accuracy: 0.8249 - val_loss: 0.5505 - val_accuracy: 0.7636\n",
      "Epoch 78/80\n",
      "109/109 [==============================] - 1s 9ms/step - loss: 0.4418 - accuracy: 0.8295 - val_loss: 0.5102 - val_accuracy: 0.7818\n",
      "Epoch 79/80\n",
      "109/109 [==============================] - 1s 8ms/step - loss: 0.4300 - accuracy: 0.8203 - val_loss: 0.5399 - val_accuracy: 0.7636\n",
      "Epoch 80/80\n",
      "109/109 [==============================] - 1s 9ms/step - loss: 0.4247 - accuracy: 0.8203 - val_loss: 0.5099 - val_accuracy: 0.7818\n"
     ]
    },
    {
     "data": {
      "image/png": "[encoded data removed]",
      "text/plain": [
       "<Figure size 640x480 with 1 Axes>"
      ]
     },
     "metadata": {},
     "output_type": "display_data"
    }
   ],
   "source": [
    "from keras.models import Sequential\n",
    "from keras.layers import Dense\n",
    "\n",
    "# Create a Sequential model\n",
    "model = Sequential()\n",
    "model.add(Dense(32, input_dim=X_train.shape[1], activation='relu'))\n",
    "model.add(Dense(16, activation='relu'))\n",
    "model.add(Dense(16, activation='relu'))\n",
    "model.add(Dense(4, activation='relu'))\n",
    "model.add(Dense(1, activation='sigmoid'))\n",
    "\n",
    "# Compile the model\n",
    "model.compile(loss='binary_crossentropy', optimizer='adam', metrics=['accuracy'])\n",
    "\n",
    "# Fit the model\n",
    "history = model.fit(X_train, y_train, epochs=80, batch_size=2, verbose=1, validation_split=0.2)\n",
    "\n",
    "# Plotting the accuracy history to find the best epoch number\n",
    "plt.plot(history.history['accuracy'], label='Train Accuracy')\n",
    "plt.plot(history.history['val_accuracy'], label='Validation Accuracy')\n",
    "plt.title('Model Accuracy')\n",
    "plt.ylabel('Accuracy')\n",
    "plt.xlabel('Epoch')\n",
    "plt.legend(loc='upper left')\n",
    "plt.show()\n"
   ]
  },
  {
   "cell_type": "markdown",
   "metadata": {},
   "source": [
    "##### Prediction and Metrics"
   ]
  },
  {
   "cell_type": "code",
   "execution_count": 13,
   "metadata": {},
   "outputs": [
    {
     "name": "stdout",
     "output_type": "stream",
     "text": [
      "3/3 [==============================] - 0s 7ms/step\n"
     ]
    }
   ],
   "source": [
    "y_pred_nn = model.predict(X_test)\n",
    "y_pred_nn = (y_pred_nn > 0.5).astype(int)"
   ]
  },
  {
   "cell_type": "code",
   "execution_count": 14,
   "metadata": {},
   "outputs": [
    {
     "data": {
      "text/html": [
       "<div>\n",
       "<style scoped>\n",
       "    .dataframe tbody tr th:only-of-type {\n",
       "        vertical-align: middle;\n",
       "    }\n",
       "\n",
       "    .dataframe tbody tr th {\n",
       "        vertical-align: top;\n",
       "    }\n",
       "\n",
       "    .dataframe thead th {\n",
       "        text-align: right;\n",
       "    }\n",
       "</style>\n",
       "<table border=\"1\" class=\"dataframe\">\n",
       "  <thead>\n",
       "    <tr style=\"text-align: right;\">\n",
       "      <th></th>\n",
       "      <th>Predicted Positive</th>\n",
       "      <th>Predicted Negative</th>\n",
       "    </tr>\n",
       "  </thead>\n",
       "  <tbody>\n",
       "    <tr>\n",
       "      <th>Actual Positive</th>\n",
       "      <td>29</td>\n",
       "      <td>9</td>\n",
       "    </tr>\n",
       "    <tr>\n",
       "      <th>Actual Negative</th>\n",
       "      <td>3</td>\n",
       "      <td>27</td>\n",
       "    </tr>\n",
       "  </tbody>\n",
       "</table>\n",
       "</div>"
      ],
      "text/plain": [
       "                 Predicted Positive  Predicted Negative\n",
       "Actual Positive                  29                   9\n",
       "Actual Negative                   3                  27"
      ]
     },
     "execution_count": 14,
     "metadata": {},
     "output_type": "execute_result"
    }
   ],
   "source": [
    "from sklearn.metrics import confusion_matrix\n",
    "\n",
    "# Confusion matrix\n",
    "\n",
    "conf_matrix = confusion_matrix(y_test, y_pred_nn)\n",
    "\n",
    "tn, fp, fn, tp = conf_matrix.ravel()\n",
    "\n",
    "confusion_matrix_table = pd.DataFrame(\n",
    "    [[tp, fp],\n",
    "     [fn, tn]],\n",
    "    columns=[\"Predicted Positive\", \"Predicted Negative\"],\n",
    "    index=[\"Actual Positive\", \"Actual Negative\"]\n",
    ")\n",
    "\n",
    "confusion_matrix_table"
   ]
  },
  {
   "cell_type": "code",
   "execution_count": 18,
   "metadata": {},
   "outputs": [],
   "source": [
    "from sklearn.metrics import accuracy_score, recall_score, precision_score, f1_score"
   ]
  },
  {
   "cell_type": "code",
   "execution_count": 19,
   "metadata": {},
   "outputs": [
    {
     "name": "stdout",
     "output_type": "stream",
     "text": [
      " \n",
      "    Neural Network Model Performance\n",
      "    ---------------------------------\n",
      "    Accuracy: 0.824\n",
      "    Recall: 0.906\n",
      "    Precision: 0.763\n",
      "    F1 Score: 0.829\n",
      "    \n"
     ]
    }
   ],
   "source": [
    "# Model performance with different metrics (accuracy, recall, precision, f1 score)\n",
    "\n",
    "accuracy = accuracy_score(y_test, y_pred_nn)\n",
    "recall = recall_score(y_test, y_pred_nn)\n",
    "precision = precision_score(y_test, y_pred_nn)\n",
    "f1 = f1_score(y_test, y_pred_nn)\n",
    "\n",
    "print(\n",
    "    f\"\"\" \n",
    "    Neural Network Model Performance\n",
    "    ---------------------------------\n",
    "    Accuracy: {accuracy.round(3)}\n",
    "    Recall: {recall.round(3)}\n",
    "    Precision: {precision.round(3)}\n",
    "    F1 Score: {f1.round(3)}\n",
    "    \"\"\"\n",
    ")"
   ]
  },
  {
   "cell_type": "code",
   "execution_count": 24,
   "metadata": {},
   "outputs": [
    {
     "name": "stdout",
     "output_type": "stream",
     "text": [
      "3/3 [==============================] - 0s 4ms/step\n"
     ]
    },
    {
     "data": {
      "image/png": "[encoded data removed]",
      "text/plain": [
       "<Figure size 640x480 with 1 Axes>"
      ]
     },
     "metadata": {},
     "output_type": "display_data"
    }
   ],
   "source": [
    "from sklearn.metrics import roc_curve, auc\n",
    "\n",
    "# ROC Curve\n",
    "\n",
    "fpr, tpr, thresholds = roc_curve(y_test, model.predict(X_test))\n",
    "roc_auc = auc(fpr, tpr)\n",
    "\n",
    "plt.figure()\n",
    "plt.plot(fpr, tpr, label=f'ROC curve (area = {roc_auc.round(3)})')\n",
    "plt.plot([0, 1], [0, 1], linestyle='--')\n",
    "plt.xlim([0.0, 1.0])\n",
    "plt.ylim([0.0, 1.05])\n",
    "plt.xlabel('False Positive Rate (FPR)')\n",
    "plt.ylabel('True Positive Rate (TPR)')\n",
    "plt.title('Receiver Operating Characteristic (ROC)')\n",
    "plt.legend(loc=\"lower right\")\n",
    "plt.show()"
   ]
  }
 ],
 "metadata": {
  "kernelspec": {
   "display_name": "Python 3",
   "language": "python",
   "name": "python3"
  },
  "language_info": {
   "codemirror_mode": {
    "name": "ipython",
    "version": 3
   },
   "file_extension": ".py",
   "mimetype": "text/x-python",
   "name": "python",
   "nbconvert_exporter": "python",
   "pygments_lexer": "ipython3",
   "version": "3.10.4"
  }
 },
 "nbformat": 4,
 "nbformat_minor": 2
}
